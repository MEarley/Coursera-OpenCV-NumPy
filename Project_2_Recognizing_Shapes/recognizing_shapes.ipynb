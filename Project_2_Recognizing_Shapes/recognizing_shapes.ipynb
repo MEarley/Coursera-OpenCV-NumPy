{
 "cells": [
  {
   "cell_type": "markdown",
   "metadata": {},
   "source": [
    "Recognizing Shapes in Objects with OpenCV\n",
    "=========================================\n"
   ]
  },
  {
   "cell_type": "markdown",
   "metadata": {},
   "source": [
    "Import libraries."
   ]
  },
  {
   "cell_type": "code",
   "execution_count": 1,
   "metadata": {},
   "outputs": [],
   "source": [
    "import cv2\n",
    "import numpy as np\n",
    "import os"
   ]
  },
  {
   "cell_type": "markdown",
   "metadata": {},
   "source": [
    "Image filenames."
   ]
  },
  {
   "cell_type": "code",
   "execution_count": 2,
   "metadata": {},
   "outputs": [],
   "source": [
    "files = (\n",
    "    'subway.jpg',\n",
    "    'breakfast.jpg',\n",
    "    'dinner.jpg',\n",
    "    'building.jpg',\n",
    ")\n",
    "f = os.path.join('images', files[0]) # image file"
   ]
  },
  {
   "cell_type": "markdown",
   "metadata": {},
   "source": [
    "Define a function for viewing images."
   ]
  },
  {
   "cell_type": "code",
   "execution_count": 3,
   "metadata": {},
   "outputs": [],
   "source": [
    "def view_image(image):\n",
    "    cv2.imshow('view',image) # Displays image\n",
    "    cv2.waitKey(0) # Wait until a key is pressed\n",
    "    cv2.destroyAllWindows() # Close image"
   ]
  },
  {
   "cell_type": "markdown",
   "metadata": {},
   "source": [
    "Read an image from file."
   ]
  },
  {
   "cell_type": "code",
   "execution_count": 4,
   "metadata": {},
   "outputs": [],
   "source": [
    "image = cv2.imread(f) \n",
    "view_image(image)"
   ]
  },
  {
   "cell_type": "markdown",
   "metadata": {},
   "source": [
    "Inspect image contents"
   ]
  },
  {
   "cell_type": "code",
   "execution_count": 5,
   "metadata": {},
   "outputs": [
    {
     "name": "stdout",
     "output_type": "stream",
     "text": [
      "(640, 427, 3)\n",
      "[22 24  4]\n"
     ]
    }
   ],
   "source": [
    "print(image.shape) # (Rows, Columns,BGR-Value)\n",
    "print(image[0,0,:]) # BGR Value"
   ]
  },
  {
   "cell_type": "markdown",
   "metadata": {},
   "source": [
    "Gray-scale"
   ]
  },
  {
   "cell_type": "code",
   "execution_count": 6,
   "metadata": {},
   "outputs": [
    {
     "name": "stdout",
     "output_type": "stream",
     "text": [
      "(640, 427)\n",
      "18\n"
     ]
    }
   ],
   "source": [
    "gray_image = cv2.cvtColor(image, cv2.COLOR_BGR2GRAY) # Convert to gray-scale\n",
    "print(gray_image.shape)\n",
    "print(gray_image[0,0])\n",
    "view_image(gray_image)"
   ]
  },
  {
   "cell_type": "markdown",
   "metadata": {},
   "source": [
    "X gradient"
   ]
  },
  {
   "cell_type": "code",
   "execution_count": 7,
   "metadata": {},
   "outputs": [],
   "source": [
    "# Takes gradient on the horizontal axis\n",
    "sobelx = cv2.Sobel(gray_image, cv2.CV_64F, 1, 0) # Finds the rate of change (derivative) of an image\n",
    "abs_sobelx = np.absolute(sobelx) # Obtain Magnitude of derivatives\n",
    "view_image(abs_sobelx / np.max(abs_sobelx)) # Normalize image and display\n"
   ]
  },
  {
   "cell_type": "markdown",
   "metadata": {},
   "source": [
    "Y gradient"
   ]
  },
  {
   "cell_type": "code",
   "execution_count": 8,
   "metadata": {},
   "outputs": [],
   "source": [
    "# Takes gradient on the vertical axis\n",
    "sobely = cv2.Sobel(gray_image, cv2.CV_64F, 0, 1) # Finds the rate of change (derivative) of an image\n",
    "abs_sobely = np.absolute(sobely) # Obtain Magnitude of derivatives\n",
    "view_image(abs_sobely / np.max(abs_sobely)) # Normalize image and display\n"
   ]
  },
  {
   "cell_type": "markdown",
   "metadata": {},
   "source": [
    "Magnitude of gradient vector"
   ]
  },
  {
   "cell_type": "code",
   "execution_count": 9,
   "metadata": {},
   "outputs": [],
   "source": [
    "# Combining both gradients\n",
    "magnitude = np.sqrt(sobelx**2 + sobely ** 2)\n",
    "view_image(magnitude / np.max(magnitude)) # Normalize image and display"
   ]
  },
  {
   "cell_type": "markdown",
   "metadata": {},
   "source": [
    "Canny edge detection"
   ]
  },
  {
   "cell_type": "code",
   "execution_count": 12,
   "metadata": {},
   "outputs": [],
   "source": [
    "# Pixels below 50 brightness are no longer considered edge pixels\n",
    "# Pixels above 150 brightness are certainly edge pixels\n",
    "edges = cv2.Canny(gray_image, 200, 250) # Edge-detection threshold\n",
    "view_image(edges)"
   ]
  },
  {
   "cell_type": "markdown",
   "metadata": {},
   "source": [
    "Theory: Hough transforms\n",
    "\n",
    "![title](images2/line_diagram.png)\n",
    "\n",
    "![title](images2/accumulator1.png)\n",
    "\n",
    "![title](images2/edge_pixel.png)\n",
    "\n",
    "![title](images2/accumulator2.png)\n",
    "\n",
    "![title](images2/accumulator3.png)\n"
   ]
  },
  {
   "cell_type": "markdown",
   "metadata": {},
   "source": [
    "Hough transform for lines"
   ]
  },
  {
   "cell_type": "code",
   "execution_count": 16,
   "metadata": {},
   "outputs": [],
   "source": [
    "lines = cv2.HoughLinesP(\n",
    "            edges,\n",
    "            rho = 1,\n",
    "            theta = 1 * np.pi/180.0,\n",
    "            threshold = 20,\n",
    "            minLineLength = 25,\n",
    "            maxLineGap = 5,\n",
    "        ) # Use Hough's Theory to interpret lines\n",
    "image_lines = image.copy()\n",
    "for l in lines:\n",
    "    x1,y1,x2,y2 = l[0]\n",
    "    cv2.line(image_lines, (x1,y1),(x2,y2), (0,0,255), thickness = 2) # Red line on edges\n",
    "\n",
    "view_image(image_lines)  \n",
    "    "
   ]
  },
  {
   "cell_type": "markdown",
   "metadata": {},
   "source": [
    "Hough transform for circles"
   ]
  },
  {
   "cell_type": "code",
   "execution_count": 34,
   "metadata": {},
   "outputs": [],
   "source": [
    "circles = cv2.HoughCircles(\n",
    "            gray_image,\n",
    "            method = cv2.HOUGH_GRADIENT,\n",
    "            dp = 2,\n",
    "            minDist = 35,\n",
    "            param1 = 200,\n",
    "            param2 = 50,\n",
    "            minRadius = 15,\n",
    "            maxRadius = 25\n",
    "        )\n",
    "image_circles = image.copy()\n",
    "for x,y,r in circles[0]:\n",
    "    cv2.circle(\n",
    "        image_circles,\n",
    "        (x,y),\n",
    "        int(r),\n",
    "        (0,0,255),\n",
    "        thickness = 3\n",
    "        )\n",
    "view_image(image_circles)"
   ]
  },
  {
   "cell_type": "markdown",
   "metadata": {},
   "source": [
    "Blur the image first"
   ]
  },
  {
   "cell_type": "code",
   "execution_count": 37,
   "metadata": {},
   "outputs": [],
   "source": [
    "blurred_image = cv2.GaussianBlur(\n",
    "                    gray_image,\n",
    "                    ksize = (21,21),\n",
    "                    sigmaX = 0\n",
    "                    )\n",
    "view_image(blurred_image)"
   ]
  },
  {
   "cell_type": "markdown",
   "metadata": {},
   "source": [
    "Circle detection on blurred image"
   ]
  },
  {
   "cell_type": "code",
   "execution_count": 41,
   "metadata": {},
   "outputs": [],
   "source": [
    "circles = cv2.HoughCircles(\n",
    "            blurred_image,\n",
    "            method = cv2.HOUGH_GRADIENT,\n",
    "            dp = 2,\n",
    "            minDist = 35,\n",
    "            param1 = 150,\n",
    "            param2 = 40,\n",
    "            minRadius = 15,\n",
    "            maxRadius = 25\n",
    "        )\n",
    "image_circles = image.copy()\n",
    "for x,y,r in circles[0]:\n",
    "    cv2.circle(\n",
    "        image_circles,\n",
    "        (x,y),\n",
    "        int(r),\n",
    "        (0,0,255),\n",
    "        thickness = 3\n",
    "        )\n",
    "view_image(image_circles)"
   ]
  },
  {
   "cell_type": "code",
   "execution_count": null,
   "metadata": {},
   "outputs": [],
   "source": []
  }
 ],
 "metadata": {
  "kernelspec": {
   "display_name": "Python 3",
   "language": "python",
   "name": "python3"
  },
  "language_info": {
   "codemirror_mode": {
    "name": "ipython",
    "version": 3
   },
   "file_extension": ".py",
   "mimetype": "text/x-python",
   "name": "python",
   "nbconvert_exporter": "python",
   "pygments_lexer": "ipython3",
   "version": "3.6.9"
  }
 },
 "nbformat": 4,
 "nbformat_minor": 4
}
