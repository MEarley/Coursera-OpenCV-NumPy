{
 "cells": [
  {
   "cell_type": "markdown",
   "metadata": {},
   "source": [
    "Tracking Objects in Video with Particle Filters\n",
    "==============================================="
   ]
  },
  {
   "cell_type": "markdown",
   "metadata": {},
   "source": [
    "Import libraries"
   ]
  },
  {
   "cell_type": "code",
   "execution_count": 14,
   "metadata": {},
   "outputs": [],
   "source": [
    "import numpy as np\n",
    "import cv2\n",
    "\n",
    "# Repeatability\n",
    "np.random.seed(0)\n",
    "\n",
    "VFILENAME = \"walking.mp4\"\n",
    "ESC_KEY = 27"
   ]
  },
  {
   "cell_type": "code",
   "execution_count": 15,
   "metadata": {},
   "outputs": [],
   "source": [
    "def get_video_data(filename):\n",
    "    video = cv2.VideoCapture(filename)\n",
    "    fps = round(video.get(cv2.CAP_PROP_FPS))\n",
    "    framerate = round(1000 / fps) # 1000 ms / FPS\n",
    "    resolution = (round(video.get(cv2.CAP_PROP_FRAME_WIDTH)),round(video.get(cv2.CAP_PROP_FRAME_HEIGHT)))\n",
    "    video.release()\n",
    "    print(framerate)\n",
    "    print(fps)\n",
    "    print(resolution)\n",
    "    video.release()\n",
    "    return framerate, fps, resolution"
   ]
  },
  {
   "cell_type": "code",
   "execution_count": 16,
   "metadata": {},
   "outputs": [
    {
     "name": "stdout",
     "output_type": "stream",
     "text": [
      "33\n",
      "30\n",
      "(722, 406)\n"
     ]
    }
   ],
   "source": [
    "FRAMERATE, FPS, RESOLUTION = get_video_data(VFILENAME)\n",
    "WIDTH, HEIGHT = RESOLUTION"
   ]
  },
  {
   "cell_type": "markdown",
   "metadata": {},
   "source": [
    "Load video frames from file"
   ]
  },
  {
   "cell_type": "code",
   "execution_count": 17,
   "metadata": {},
   "outputs": [],
   "source": [
    "def get_frames(filename):\n",
    "    video = cv2.VideoCapture(filename) # Open Video\n",
    "    while video.isOpened():\n",
    "        retrieved, frame = video.read() # Read frames\n",
    "        if retrieved:\n",
    "            yield frame \n",
    "        else:\n",
    "            break\n",
    "    video.release() # Video is closed, release resources\n",
    "    yield None"
   ]
  },
  {
   "cell_type": "markdown",
   "metadata": {},
   "source": [
    "Creating a particle cloud"
   ]
  },
  {
   "cell_type": "code",
   "execution_count": 18,
   "metadata": {},
   "outputs": [],
   "source": [
    "NUM_PARTICLES = 5000\n",
    "VEL_RANGE = 0.5\n",
    "# particles = [particle][(x,y)][velocityX][velocityY]\n",
    "def initialize_particles():\n",
    "    particles = np.random.rand(NUM_PARTICLES,4) # 5000 Rows, 4 Columns, Number between 0 and 1\n",
    "    particles = particles * np.array((WIDTH,HEIGHT,VEL_RANGE,VEL_RANGE)) # Range of X, Y, and velocities for every particle\n",
    "    particles[:,2:4] -= VEL_RANGE/2.0 # Center Velocity at 0\n",
    "    print(particles[:20,:])\n",
    "    return particles"
   ]
  },
  {
   "cell_type": "markdown",
   "metadata": {},
   "source": [
    "Moving particles according to their velocity state"
   ]
  },
  {
   "cell_type": "code",
   "execution_count": 19,
   "metadata": {},
   "outputs": [],
   "source": [
    "def apply_velocity(particles):\n",
    "    particles[:,0] += particles[:,2]\n",
    "    particles[:,1] += particles[:,3]\n",
    "    return particles"
   ]
  },
  {
   "cell_type": "markdown",
   "metadata": {},
   "source": [
    "Prevent particles from falling off the edge of the video frame"
   ]
  },
  {
   "cell_type": "code",
   "execution_count": 20,
   "metadata": {},
   "outputs": [],
   "source": [
    "def enforce_edges(particles):\n",
    "    for i in range(NUM_PARTICLES):\n",
    "        particles[i,0] = max(0,min(WIDTH - 1, particles[i,0])) # Prevents x value from being greater than WIDTH\n",
    "        particles[i,1] = max(0,min(HEIGHT -1, particles[i,1])) # Prevents y value from being greater than HEIGHT \n",
    "    return particles"
   ]
  },
  {
   "cell_type": "markdown",
   "metadata": {},
   "source": [
    "Measure each particle's quality"
   ]
  },
  {
   "cell_type": "code",
   "execution_count": 21,
   "metadata": {},
   "outputs": [],
   "source": [
    "TARGET_COLOR = np.array((156,74,38)) # BGR Color Value\n",
    "def compute_errors(particles, frame):\n",
    "    errors = np.zeros(NUM_PARTICLES)\n",
    "    for i in range(NUM_PARTICLES):\n",
    "        x = int(particles[i,0])\n",
    "        y = int(particles[i,1])\n",
    "        pixel_color = frame[y,x,:] # y,x, BGR\n",
    "        errors[i] = np.sum((TARGET_COLOR - pixel_color) ** 2) # Difference in color values\n",
    "    return errors"
   ]
  },
  {
   "cell_type": "markdown",
   "metadata": {},
   "source": [
    "Assign weights to the particles based on their quality of match"
   ]
  },
  {
   "cell_type": "code",
   "execution_count": 32,
   "metadata": {},
   "outputs": [],
   "source": [
    "def compute_weights(errors):\n",
    "    weights = np.max(errors) - errors # Invert errors (Highest error = Lowest Weight)\n",
    "    # Set edge particles weight to 0\n",
    "    weights[\n",
    "        (particles[:,0] == 0) |\n",
    "        (particles[:,0] == WIDTH-1) | \n",
    "        (particles[:,1] == 0) |\n",
    "        (particles[:,1] == HEIGHT - 1)\n",
    "    ] = 0.0\n",
    "    weights = weights**4\n",
    "    return weights"
   ]
  },
  {
   "cell_type": "markdown",
   "metadata": {},
   "source": [
    "Resample particles according to their weights"
   ]
  },
  {
   "cell_type": "code",
   "execution_count": 33,
   "metadata": {},
   "outputs": [],
   "source": [
    "def resample(particles, weights):\n",
    "    probabilities = weights / np.sum(weights) # Normalize\n",
    "    \n",
    "    # New particles based on weights (High Weight = High Chance)\n",
    "    index_numbers = np.random.choice(\n",
    "        NUM_PARTICLES,\n",
    "        size = NUM_PARTICLES,\n",
    "        p=probabilities)\n",
    "    particles = particles[index_numbers,:] # Replace particles with chosen indices\n",
    "    \n",
    "    x = np.mean(particles[:,0])\n",
    "    y = np.mean(particles[:,1])\n",
    "    return particles, (int(x),int(y))"
   ]
  },
  {
   "cell_type": "markdown",
   "metadata": {},
   "source": [
    "Fuzz the particles"
   ]
  },
  {
   "cell_type": "code",
   "execution_count": 34,
   "metadata": {},
   "outputs": [],
   "source": [
    "POS_SIGMA = 1.0\n",
    "VEL_SIGMA = 0.5\n",
    "def apply_noise(particles):\n",
    "    noise = np.concatenate(\n",
    "    (\n",
    "        np.random.normal(0.0,POS_SIGMA,(NUM_PARTICLES,1)), # X-position\n",
    "        np.random.normal(0.0,POS_SIGMA,(NUM_PARTICLES,1)), # Y-position\n",
    "        np.random.normal(0.0,VEL_SIGMA,(NUM_PARTICLES,1)), # X-Velocity\n",
    "        np.random.normal(0.0,VEL_SIGMA,(NUM_PARTICLES,1)), # Y-Velocity\n",
    "    ),\n",
    "    axis=1)\n",
    "    particles += noise\n",
    "    return particles"
   ]
  },
  {
   "cell_type": "markdown",
   "metadata": {},
   "source": [
    "Display the video frames"
   ]
  },
  {
   "cell_type": "code",
   "execution_count": 30,
   "metadata": {},
   "outputs": [],
   "source": [
    "def display(frame, particles, location):\n",
    "    if len(particles) > 0:\n",
    "        for i in range(NUM_PARTICLES):\n",
    "            x = int(particles[i,0])\n",
    "            y = int(particles[i,1])\n",
    "            cv2.circle(frame,(x,y),1,(0,255,0), 1)\n",
    "    if len(location) > 0:\n",
    "        cv2.circle(frame, location, 15, (0,0,255),5)\n",
    "    cv2.imshow('frame',frame)\n",
    "    if cv2.waitKey(30) == ESC_KEY: # Pause Video\n",
    "        if cv2.waitKey(0) == ESC_KEY: # Exit Video\n",
    "            return True\n",
    "            \n",
    "    return False"
   ]
  },
  {
   "cell_type": "markdown",
   "metadata": {},
   "source": [
    "Main routine"
   ]
  },
  {
   "cell_type": "code",
   "execution_count": 35,
   "metadata": {},
   "outputs": [
    {
     "name": "stdout",
     "output_type": "stream",
     "text": [
      "[[ 2.83811719e+02  3.18830683e+02 -7.14733855e-02  1.72408515e-01]\n",
      " [ 4.05539628e+02  3.49852534e+02 -1.58670858e-01  8.88875671e-02]\n",
      " [ 3.95502071e+02  1.36817941e+02  3.15216219e-02  5.18219628e-02]\n",
      " [ 3.44595154e+02  3.88256701e+02 -1.81590797e-01  5.96008212e-02]\n",
      " [ 2.76687679e+02  4.04856492e+02 -1.20818504e-01 -2.07042298e-01]\n",
      " [ 3.67866953e+02  2.00636732e+02  1.77888302e-01 -6.00953341e-02]\n",
      " [ 4.08335903e+02  2.45082171e+02  9.12160540e-02  1.06212529e-01]\n",
      " [ 7.16005265e+02  3.74011855e+02  1.92924004e-01  1.14354502e-01]\n",
      " [ 3.74996412e+01  7.46165651e+01  2.10493735e-01 -3.67750911e-02]\n",
      " [ 2.55610849e+02  3.72525964e+02  1.16258481e-01  2.27629605e-01]\n",
      " [ 5.98722137e+02  3.28294575e+02  2.14250935e-01 -8.81296353e-02]\n",
      " [ 3.83177361e+01  1.38462024e+02 -2.34397164e-01  2.46852320e-01]\n",
      " [ 5.40487615e+02  3.48141298e+01 -6.15295968e-02  2.51379416e-02]\n",
      " [ 4.27759117e+01  3.85177267e+02 -1.25730988e-02  8.47530247e-02]\n",
      " [ 6.63288794e+01  9.56993836e+01 -5.90288316e-02 -1.02257115e-01]\n",
      " [ 3.15680047e+00  3.86198945e+02  2.49108503e-01  1.35748273e-01]\n",
      " [ 5.87892288e+02  1.46221222e+02 -2.11343121e-02  1.04579886e-01]\n",
      " [ 3.49125871e+02  1.78959144e+01  2.16497484e-01 -4.72095653e-02]\n",
      " [ 4.27038871e+02  4.03033326e+02 -2.22379560e-02 -1.94211862e-01]\n",
      " [ 2.09328851e+02  1.52246346e+02 -2.20258565e-01  1.04621914e-01]]\n"
     ]
    }
   ],
   "source": [
    "particles = initialize_particles()\n",
    "\n",
    "for frame in get_frames(VFILENAME):\n",
    "    if frame is None: break\n",
    "\n",
    "    particles = apply_velocity(particles)\n",
    "    particles = enforce_edges(particles)\n",
    "    errors = compute_errors(particles, frame)\n",
    "    weights = compute_weights(errors)\n",
    "    particles, location = resample(particles, weights)\n",
    "    particles = apply_noise(particles)\n",
    "    terminate = display(frame, particles, location)\n",
    "    if terminate:\n",
    "        break\n",
    "cv2.destroyAllWindows()\n"
   ]
  },
  {
   "cell_type": "code",
   "execution_count": 37,
   "metadata": {},
   "outputs": [],
   "source": [
    "fourcc = cv2.VideoWriter_fourcc('M','P','4','V') # MP4V Format Output\n",
    "video_out = cv2.VideoWriter(\"walking-output.mp4\",fourcc,FPS,RESOLUTION) # (filename,fourcc,frames per sec, resolution)\n",
    "\n",
    "def save_video(frame, particles, location):\n",
    "    if len(particles) > 0:\n",
    "        for i in range(NUM_PARTICLES):\n",
    "            x = int(particles[i,0])\n",
    "            y = int(particles[i,1])\n",
    "            cv2.circle(frame,(x,y),1,(0,255,0), 1)\n",
    "    if len(location) > 0:\n",
    "        cv2.circle(frame, location, 15, (0,0,255),5)\n",
    "    video_out.write(frame)\n",
    "            \n",
    "    return False"
   ]
  },
  {
   "cell_type": "code",
   "execution_count": 38,
   "metadata": {},
   "outputs": [
    {
     "name": "stdout",
     "output_type": "stream",
     "text": [
      "[[ 4.55815887e+02  4.76250946e+01 -1.65531380e-01 -8.74547999e-02]\n",
      " [ 6.67228944e+02  2.68577618e+02 -1.24224750e-01 -1.03997881e-01]\n",
      " [ 5.00309573e+02  3.41731035e+02 -1.71681690e-01 -1.04055360e-01]\n",
      " [ 3.37444089e+01  1.33747753e+02  1.86807285e-01 -4.01106065e-02]\n",
      " [ 9.99721733e+01  3.40452689e+02  1.19415693e-01 -1.61637885e-01]\n",
      " [ 7.47061768e+01  1.57741538e+02  1.02418736e-01  6.50624641e-02]\n",
      " [ 1.30847539e+02  9.01744547e+01 -1.24459869e-01  1.05070103e-01]\n",
      " [ 3.75729391e+02  1.17328485e+02  2.23116633e-01 -1.40917943e-01]\n",
      " [ 4.73052068e+02  5.39070101e+01  2.14857747e-01 -5.86551156e-02]\n",
      " [ 6.11703009e+02  1.64897849e+01  3.36504530e-02 -2.19661336e-01]\n",
      " [ 6.29420972e+02  7.09614847e+00  6.89989284e-02  1.08575627e-01]\n",
      " [ 2.28493306e+02  3.87315662e+02  3.45267755e-02  2.36091270e-01]\n",
      " [ 2.51318203e+02  1.97803423e+02  1.15127965e-03 -2.30458202e-01]\n",
      " [ 4.48257487e+02  2.35819284e+02 -8.39176909e-02  2.57438876e-02]\n",
      " [ 6.34409151e+02  1.85022577e+00  4.63220153e-02  2.00335252e-01]\n",
      " [ 6.52928254e+02  1.25815264e+02 -1.51763957e-02  6.45423489e-02]\n",
      " [ 6.20918069e+02  8.76169164e+01 -1.33130208e-01 -2.41618084e-01]\n",
      " [ 4.09419075e+02  2.35660685e+02  1.61946765e-01 -1.87256719e-01]\n",
      " [ 3.90774926e+02  2.48839519e+02  2.08832938e-01  5.28192566e-02]\n",
      " [ 1.74931318e+02  6.31365182e+01  1.85451478e-01 -2.30498549e-01]]\n"
     ]
    }
   ],
   "source": [
    "# Save Video to Disk\n",
    "\n",
    "particles = initialize_particles()\n",
    "\n",
    "for frame in get_frames(VFILENAME):\n",
    "    if frame is None: \n",
    "        break\n",
    "\n",
    "    particles = apply_velocity(particles)\n",
    "    particles = enforce_edges(particles)\n",
    "    errors = compute_errors(particles, frame)\n",
    "    weights = compute_weights(errors)\n",
    "    particles, location = resample(particles, weights)\n",
    "    particles = apply_noise(particles)\n",
    "    save_video(frame, particles, location)\n",
    "    \n",
    "cv2.destroyAllWindows()\n",
    "video_out.release()\n"
   ]
  },
  {
   "cell_type": "code",
   "execution_count": null,
   "metadata": {},
   "outputs": [],
   "source": []
  }
 ],
 "metadata": {
  "kernelspec": {
   "display_name": "Python 3 (ipykernel)",
   "language": "python",
   "name": "python3"
  },
  "language_info": {
   "codemirror_mode": {
    "name": "ipython",
    "version": 3
   },
   "file_extension": ".py",
   "mimetype": "text/x-python",
   "name": "python",
   "nbconvert_exporter": "python",
   "pygments_lexer": "ipython3",
   "version": "3.10.9"
  }
 },
 "nbformat": 4,
 "nbformat_minor": 4
}
