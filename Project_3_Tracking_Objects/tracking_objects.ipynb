{
 "cells": [
  {
   "cell_type": "markdown",
   "metadata": {},
   "source": [
    "Tracking Objects in Video with Particle Filters\n",
    "==============================================="
   ]
  },
  {
   "cell_type": "markdown",
   "metadata": {},
   "source": [
    "Import libraries"
   ]
  },
  {
   "cell_type": "code",
   "execution_count": 200,
   "metadata": {},
   "outputs": [],
   "source": [
    "import numpy as np\n",
    "import cv2\n",
    "\n",
    "# Repeatability\n",
    "np.random.seed(0)\n",
    "\n",
    "#VFILENAME =  \"walking.mp4\"\n",
    "VFILENAME = \"Mario-N-Friends.mp4\" \n",
    "ESC_KEY = 27"
   ]
  },
  {
   "cell_type": "code",
   "execution_count": 201,
   "metadata": {},
   "outputs": [],
   "source": [
    "def get_video_data(filename):\n",
    "    video = cv2.VideoCapture(filename)\n",
    "    fps = round(video.get(cv2.CAP_PROP_FPS))\n",
    "    framerate = round(1000 / fps) # 1000 ms / FPS\n",
    "    resolution = (round(video.get(cv2.CAP_PROP_FRAME_WIDTH)),round(video.get(cv2.CAP_PROP_FRAME_HEIGHT)))\n",
    "    video.release()\n",
    "    print(framerate)\n",
    "    print(fps)\n",
    "    print(resolution)\n",
    "    video.release()\n",
    "    return framerate, fps, resolution"
   ]
  },
  {
   "cell_type": "code",
   "execution_count": 202,
   "metadata": {},
   "outputs": [
    {
     "name": "stdout",
     "output_type": "stream",
     "text": [
      "42\n",
      "24\n",
      "(1188, 720)\n"
     ]
    }
   ],
   "source": [
    "FRAMERATE, FPS, RESOLUTION = get_video_data(VFILENAME)\n",
    "WIDTH, HEIGHT = RESOLUTION"
   ]
  },
  {
   "cell_type": "markdown",
   "metadata": {},
   "source": [
    "Load video frames from file"
   ]
  },
  {
   "cell_type": "code",
   "execution_count": 203,
   "metadata": {},
   "outputs": [],
   "source": [
    "def get_frames(filename):\n",
    "    video = cv2.VideoCapture(filename) # Open Video\n",
    "    while video.isOpened():\n",
    "        retrieved, frame = video.read() # Read frames\n",
    "        if retrieved:\n",
    "            yield frame \n",
    "        else:\n",
    "            break\n",
    "    video.release() # Video is closed, release resources\n",
    "    yield None"
   ]
  },
  {
   "cell_type": "markdown",
   "metadata": {},
   "source": [
    "Creating a particle cloud"
   ]
  },
  {
   "cell_type": "code",
   "execution_count": 204,
   "metadata": {},
   "outputs": [],
   "source": [
    "NUM_PARTICLES = 3000\n",
    "VEL_RANGE = 0.5\n",
    "# particles = [particle][(x,y)][velocityX][velocityY]\n",
    "def initialize_particles():\n",
    "    particles = np.random.rand(NUM_PARTICLES,4) # 5000 Rows, 4 Columns, Number between 0 and 1\n",
    "    particles = particles * np.array((WIDTH,HEIGHT,VEL_RANGE,VEL_RANGE)) # Range of X, Y, and velocities for every particle\n",
    "    particles[:,2:4] -= VEL_RANGE/2.0 # Center Velocity at 0\n",
    "    print(particles[:20,:])\n",
    "    return particles"
   ]
  },
  {
   "cell_type": "markdown",
   "metadata": {},
   "source": [
    "Moving particles according to their velocity state"
   ]
  },
  {
   "cell_type": "code",
   "execution_count": 205,
   "metadata": {},
   "outputs": [],
   "source": [
    "def apply_velocity(particles):\n",
    "    particles[:,0] += particles[:,2]\n",
    "    particles[:,1] += particles[:,3]\n",
    "    return particles"
   ]
  },
  {
   "cell_type": "markdown",
   "metadata": {},
   "source": [
    "Prevent particles from falling off the edge of the video frame"
   ]
  },
  {
   "cell_type": "code",
   "execution_count": 206,
   "metadata": {},
   "outputs": [],
   "source": [
    "def enforce_edges(particles):\n",
    "    for i in range(NUM_PARTICLES):\n",
    "        particles[i,0] = max(0,min(WIDTH - 1, particles[i,0])) # Prevents x value from being greater than WIDTH\n",
    "        particles[i,1] = max(0,min(HEIGHT - 1, particles[i,1])) # Prevents y value from being greater than HEIGHT \n",
    "    return particles"
   ]
  },
  {
   "cell_type": "markdown",
   "metadata": {},
   "source": [
    "Measure each particle's quality"
   ]
  },
  {
   "cell_type": "code",
   "execution_count": 207,
   "metadata": {},
   "outputs": [],
   "source": [
    "#TARGET_COLOR = np.array((156,74,38)) # BGR Color Value\n",
    "TARGET_COLOR = np.array((0,0,255))\n",
    "def compute_errors(particles, frame):\n",
    "    errors = np.zeros(NUM_PARTICLES)\n",
    "    for i in range(NUM_PARTICLES):\n",
    "        x = int(particles[i,0])\n",
    "        y = int(particles[i,1])\n",
    "        pixel_color = frame[y,x,:] # y,x, BGR\n",
    "        errors[i] = np.sum((TARGET_COLOR - pixel_color) ** 2) # Difference in color values\n",
    "    return errors"
   ]
  },
  {
   "cell_type": "markdown",
   "metadata": {},
   "source": [
    "Assign weights to the particles based on their quality of match"
   ]
  },
  {
   "cell_type": "code",
   "execution_count": 208,
   "metadata": {},
   "outputs": [],
   "source": [
    "def compute_weights(errors):\n",
    "    weights = np.max(errors) - errors # Invert errors (Highest error = Lowest Weight)\n",
    "    # Set edge particles weight to 0\n",
    "    weights[\n",
    "        (particles[:,0] == 0) |\n",
    "        (particles[:,0] == WIDTH-1) | \n",
    "        (particles[:,1] == 0) |\n",
    "        (particles[:,1] == HEIGHT - 1)\n",
    "    ] = 0.0\n",
    "    weights = weights**3 # Higher weight exponential, Stricter Color Tracking\n",
    "    return weights"
   ]
  },
  {
   "cell_type": "markdown",
   "metadata": {},
   "source": [
    "Resample particles according to their weights"
   ]
  },
  {
   "cell_type": "code",
   "execution_count": 209,
   "metadata": {},
   "outputs": [],
   "source": [
    "def resample(particles, weights):\n",
    "    probabilities = weights / np.sum(weights) # Normalize\n",
    "    \n",
    "    # New particles based on weights (High Weight = High Chance)\n",
    "    index_numbers = np.random.choice(\n",
    "        NUM_PARTICLES,\n",
    "        size = NUM_PARTICLES,\n",
    "        p=probabilities)\n",
    "    particles = particles[index_numbers,:] # Replace particles with chosen indices\n",
    "    \n",
    "    x = np.mean(particles[:,0])\n",
    "    y = np.mean(particles[:,1])\n",
    "    return particles, (int(x),int(y))"
   ]
  },
  {
   "cell_type": "markdown",
   "metadata": {},
   "source": [
    "Fuzz the particles"
   ]
  },
  {
   "cell_type": "code",
   "execution_count": 210,
   "metadata": {},
   "outputs": [],
   "source": [
    "POS_SIGMA = 1.0 * 15\n",
    "VEL_SIGMA = 0.5 * 5\n",
    "def apply_noise(particles):\n",
    "    noise = np.concatenate(\n",
    "    (\n",
    "        np.random.normal(0.0,POS_SIGMA,(NUM_PARTICLES,1)), # X-position\n",
    "        np.random.normal(0.0,POS_SIGMA,(NUM_PARTICLES,1)), # Y-position\n",
    "        np.random.normal(0.0,VEL_SIGMA,(NUM_PARTICLES,1)), # X-Velocity\n",
    "        np.random.normal(0.0,VEL_SIGMA,(NUM_PARTICLES,1)), # Y-Velocity\n",
    "    ),\n",
    "    axis=1)\n",
    "    particles += noise\n",
    "    return particles"
   ]
  },
  {
   "cell_type": "markdown",
   "metadata": {},
   "source": [
    "Display the video frames"
   ]
  },
  {
   "cell_type": "code",
   "execution_count": 211,
   "metadata": {},
   "outputs": [],
   "source": [
    "def display(frame, particles, location):\n",
    "    if len(particles) > 0:\n",
    "        for i in range(NUM_PARTICLES):\n",
    "            x = int(particles[i,0])\n",
    "            y = int(particles[i,1])\n",
    "            cv2.circle(frame,(x,y),1,(0,255,0), 1)\n",
    "    if len(location) > 0:\n",
    "        cv2.circle(frame, location, 15, (0,0,255),5)\n",
    "    cv2.imshow('frame',frame)\n",
    "    if cv2.waitKey(30) == ESC_KEY: # Pause Video\n",
    "        if cv2.waitKey(0) == ESC_KEY: # Exit Video\n",
    "            return True\n",
    "            \n",
    "    return False"
   ]
  },
  {
   "cell_type": "markdown",
   "metadata": {},
   "source": [
    "Main routine"
   ]
  },
  {
   "cell_type": "code",
   "execution_count": 212,
   "metadata": {
    "scrolled": true
   },
   "outputs": [
    {
     "name": "stdout",
     "output_type": "stream",
     "text": [
      "[[ 6.51990443e+02  5.14936344e+02  5.13816880e-02  2.24415915e-02]\n",
      " [ 5.03301902e+02  4.65043761e+02 -3.12063944e-02  1.95886500e-01]\n",
      " [ 1.14483136e+03  2.76077894e+02  1.45862519e-01  1.44474599e-02]\n",
      " [ 6.74836939e+02  6.66429580e+02 -2.14481971e-01 -2.06435350e-01]\n",
      " [ 2.40194562e+01  5.99486289e+02  1.39078375e-01  1.85006074e-01]\n",
      " [ 1.16259859e+03  5.75394166e+02 -1.92603189e-02  1.40264588e-01]\n",
      " [ 1.40510018e+02  4.60743135e+02 -1.78323356e-01  2.22334459e-01]\n",
      " [ 6.19955806e+02  2.98556597e+02 -1.17722194e-01  1.37116845e-01]\n",
      " [ 5.41906595e+02  4.09272443e+02 -2.40605100e-01  5.88177485e-02]\n",
      " [ 7.27169719e+02  4.44192478e+02  2.21874039e-01  9.09101496e-02]\n",
      " [ 4.27095386e+02  3.14663007e+02  9.88155980e-02 -2.19887264e-01]\n",
      " [ 7.92118858e+02  4.82859266e+02 -1.44808719e-01 -1.85536851e-01]\n",
      " [ 3.74728881e+02  2.61871755e+02  3.50983852e-02 -3.06992433e-02]\n",
      " [ 1.17418812e+03  7.34722637e+01 -1.45561622e-01 -1.69345241e-01]\n",
      " [ 7.75892691e+02  1.82369954e+02 -1.68446136e-02 -1.27787204e-01]\n",
      " [ 1.88855865e+02  7.94701016e+01  7.81647947e-02 -1.80908524e-01]\n",
      " [ 2.33539846e+02  2.65482123e+02  1.60496615e-01 -2.01449362e-01]\n",
      " [ 9.95478550e+02  6.91908537e+01  2.38229733e-01 -1.56743992e-02]\n",
      " [ 1.16039217e+03  4.35488774e+02  1.19631790e-01 -2.30406104e-01]\n",
      " [ 3.35974672e+02  8.65415241e+01 -1.01929901e-01 -1.90636141e-01]]\n"
     ]
    }
   ],
   "source": [
    "particles = initialize_particles()\n",
    "\n",
    "for frame in get_frames(VFILENAME):\n",
    "    if frame is None: break\n",
    "\n",
    "    particles = apply_velocity(particles)\n",
    "    particles = enforce_edges(particles)\n",
    "    errors = compute_errors(particles, frame)\n",
    "    weights = compute_weights(errors)\n",
    "    particles, location = resample(particles, weights)\n",
    "    particles = apply_noise(particles)\n",
    "    terminate = display(frame, particles, location)\n",
    "    if terminate:\n",
    "        break\n",
    "cv2.destroyAllWindows()\n"
   ]
  },
  {
   "cell_type": "code",
   "execution_count": 213,
   "metadata": {},
   "outputs": [],
   "source": [
    "fourcc = cv2.VideoWriter_fourcc('M','P','4','V') # MP4V Format Output\n",
    "video_out = cv2.VideoWriter(\"walking-output.mp4\",fourcc,FPS,RESOLUTION) # (filename,fourcc,frames per sec, resolution)\n",
    "\n",
    "def save_video(frame, particles, location):\n",
    "    if len(particles) > 0:\n",
    "        for i in range(NUM_PARTICLES):\n",
    "            x = int(particles[i,0])\n",
    "            y = int(particles[i,1])\n",
    "            cv2.circle(frame,(x,y),1,(0,255,0), 1)\n",
    "    if len(location) > 0:\n",
    "        cv2.circle(frame, location, 15, (0,0,255),5)\n",
    "    video_out.write(frame)\n",
    "            \n",
    "    return False"
   ]
  },
  {
   "cell_type": "code",
   "execution_count": 214,
   "metadata": {},
   "outputs": [
    {
     "name": "stdout",
     "output_type": "stream",
     "text": [
      "[[ 2.55239220e+02  5.43844341e+02  1.05200837e-01 -1.47252434e-01]\n",
      " [ 3.20433962e+02  4.07919836e+02  1.86683823e-01  4.24144183e-02]\n",
      " [ 9.93154669e+02  1.86595056e+02 -2.42621051e-01 -2.05833342e-01]\n",
      " [ 3.48054913e+02  1.20164516e+02  2.43096868e-01  7.37804814e-02]\n",
      " [ 7.11662466e+02  9.43442652e+01 -1.99136335e-02  2.17086899e-01]\n",
      " [ 7.70442960e+01  6.99017293e+02 -1.19268833e-01  2.37838498e-01]\n",
      " [ 5.36619760e+01  2.58800923e+02  2.05728964e-01 -7.54415769e-03]\n",
      " [ 3.76875416e+02  2.07133173e+02  6.99169020e-03  8.08817024e-02]\n",
      " [ 1.17172691e+03  3.73632740e+02  2.45631817e-01 -6.77126653e-02]\n",
      " [ 6.86768564e+02  5.29568108e+02 -1.65414903e-01  1.10607881e-01]\n",
      " [ 2.25666766e+02  2.05132898e+02 -2.14161413e-01 -2.40155131e-01]\n",
      " [ 9.22889544e+02  7.19268127e+02 -4.71333029e-02 -4.55309281e-02]\n",
      " [ 2.61137310e+02  4.70415376e+02 -1.40769652e-01 -1.79841219e-01]\n",
      " [ 4.53282299e+02  3.93207094e+00 -6.28364205e-02 -2.25690498e-01]\n",
      " [ 6.75408080e+02  1.01237278e+02 -2.36757918e-01 -3.84197803e-02]\n",
      " [ 3.65385774e+02  6.48138293e+02 -4.63201010e-02  2.35452236e-01]\n",
      " [ 5.94008760e+02  3.46704685e+02  1.78446098e-01 -1.50444968e-01]\n",
      " [ 4.29345519e+02  1.68168602e+02 -5.94267001e-02  2.08206593e-01]\n",
      " [ 4.76079466e+02  3.78932106e+02  1.68496976e-02  1.52662863e-02]\n",
      " [ 8.47597010e+02  7.09101674e+02  2.41617883e-02 -1.06949816e-01]]\n"
     ]
    }
   ],
   "source": [
    "# Save Video to Disk\n",
    "\n",
    "particles = initialize_particles()\n",
    "\n",
    "for frame in get_frames(VFILENAME):\n",
    "    if frame is None: \n",
    "        break\n",
    "\n",
    "    particles = apply_velocity(particles)\n",
    "    particles = enforce_edges(particles)\n",
    "    errors = compute_errors(particles, frame)\n",
    "    weights = compute_weights(errors)\n",
    "    particles, location = resample(particles, weights)\n",
    "    particles = apply_noise(particles)\n",
    "    save_video(frame, particles, location)\n",
    "    \n",
    "cv2.destroyAllWindows()\n",
    "video_out.release()\n"
   ]
  },
  {
   "cell_type": "code",
   "execution_count": null,
   "metadata": {},
   "outputs": [],
   "source": []
  }
 ],
 "metadata": {
  "kernelspec": {
   "display_name": "Python 3 (ipykernel)",
   "language": "python",
   "name": "python3"
  },
  "language_info": {
   "codemirror_mode": {
    "name": "ipython",
    "version": 3
   },
   "file_extension": ".py",
   "mimetype": "text/x-python",
   "name": "python",
   "nbconvert_exporter": "python",
   "pygments_lexer": "ipython3",
   "version": "3.10.9"
  }
 },
 "nbformat": 4,
 "nbformat_minor": 4
}
