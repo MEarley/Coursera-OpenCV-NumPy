{
 "cells": [
  {
   "cell_type": "markdown",
   "metadata": {},
   "source": [
    "Tracking Objects in Video with Particle Filters\n",
    "==============================================="
   ]
  },
  {
   "cell_type": "markdown",
   "metadata": {},
   "source": [
    "Import libraries"
   ]
  },
  {
   "cell_type": "code",
   "execution_count": 35,
   "metadata": {},
   "outputs": [],
   "source": [
    "import numpy as np\n",
    "import cv2\n",
    "\n",
    "# Repeatability\n",
    "np.random.seed(0)\n",
    "\n",
    "VFILENAME = \"walking.mp4\"\n",
    "ESC_KEY = 27"
   ]
  },
  {
   "cell_type": "code",
   "execution_count": 55,
   "metadata": {},
   "outputs": [],
   "source": [
    "def get_video_data(filename):\n",
    "    video = cv2.VideoCapture(filename)\n",
    "    fps = round(video.get(cv2.CAP_PROP_FPS))\n",
    "    framerate = round(1000 / fps) # 1000 ms / FPS\n",
    "    resolution = (round(video.get(cv2.CAP_PROP_FRAME_WIDTH)),round(video.get(cv2.CAP_PROP_FRAME_HEIGHT)))\n",
    "    video.release()\n",
    "    print(framerate)\n",
    "    print(fps)\n",
    "    print(resolution)\n",
    "    video.release()\n",
    "    return framerate, fps, resolution"
   ]
  },
  {
   "cell_type": "code",
   "execution_count": 58,
   "metadata": {},
   "outputs": [
    {
     "name": "stdout",
     "output_type": "stream",
     "text": [
      "33\n",
      "30\n",
      "(722, 406)\n"
     ]
    }
   ],
   "source": [
    "FRAMERATE, FPS, RESOLUTION = get_video_data(VFILENAME)\n",
    "WIDTH, HEIGHT = RESOLUTION"
   ]
  },
  {
   "cell_type": "markdown",
   "metadata": {},
   "source": [
    "Load video frames from file"
   ]
  },
  {
   "cell_type": "code",
   "execution_count": 36,
   "metadata": {},
   "outputs": [],
   "source": [
    "def get_frames(filename):\n",
    "    video = cv2.VideoCapture(filename) # Open Video\n",
    "    while video.isOpened():\n",
    "        retrieved, frame = video.read() # Read frames\n",
    "        if retrieved:\n",
    "            yield frame \n",
    "        else:\n",
    "            break\n",
    "    video.release() # Video is closed, release resources\n",
    "    yield None"
   ]
  },
  {
   "cell_type": "markdown",
   "metadata": {},
   "source": [
    "Creating a particle cloud"
   ]
  },
  {
   "cell_type": "code",
   "execution_count": 37,
   "metadata": {},
   "outputs": [],
   "source": [
    "NUM_PARTICLES = 5000\n",
    "VEL_RANGE = 0.5\n",
    "def initialize_particles():\n",
    "    particles = np.random.rand(NUM_PARTICLES,4) # 5000 Rows, 4 Columns, Number between 0 and 1\n",
    "    particles = particles * np.array((WIDTH,HEIGHT,VEL_RANGE,VEL_RANGE)) # Range of X, Y, and velocities for every particle\n",
    "    particles[:,2:4] -= VEL_RANGE/2.0 # Center Velocity at 0\n",
    "    print(particles[:20,:])\n",
    "    return particles"
   ]
  },
  {
   "cell_type": "markdown",
   "metadata": {},
   "source": [
    "Moving particles according to their velocity state"
   ]
  },
  {
   "cell_type": "code",
   "execution_count": 38,
   "metadata": {},
   "outputs": [],
   "source": [
    "def apply_velocity(particles):\n",
    "    particles[:,0] += particles[:,2]\n",
    "    particles[:,1] += particles[:,3]\n",
    "    return particles"
   ]
  },
  {
   "cell_type": "markdown",
   "metadata": {},
   "source": [
    "Prevent particles from falling off the edge of the video frame"
   ]
  },
  {
   "cell_type": "code",
   "execution_count": 39,
   "metadata": {},
   "outputs": [],
   "source": [
    "def enforce_edges(particles):\n",
    "    return particles"
   ]
  },
  {
   "cell_type": "markdown",
   "metadata": {},
   "source": [
    "Measure each particle's quality"
   ]
  },
  {
   "cell_type": "code",
   "execution_count": 40,
   "metadata": {},
   "outputs": [],
   "source": [
    "def compute_errors(particles, frame):\n",
    "    return []"
   ]
  },
  {
   "cell_type": "markdown",
   "metadata": {},
   "source": [
    "Assign weights to the particles based on their quality of match"
   ]
  },
  {
   "cell_type": "code",
   "execution_count": 41,
   "metadata": {},
   "outputs": [],
   "source": [
    "def compute_weights(errors):\n",
    "    return []"
   ]
  },
  {
   "cell_type": "markdown",
   "metadata": {},
   "source": [
    "Resample particles according to their weights"
   ]
  },
  {
   "cell_type": "code",
   "execution_count": 42,
   "metadata": {},
   "outputs": [],
   "source": [
    "def resample(particles, weights):\n",
    "    return particles, []"
   ]
  },
  {
   "cell_type": "markdown",
   "metadata": {},
   "source": [
    "Fuzz the particles"
   ]
  },
  {
   "cell_type": "code",
   "execution_count": 43,
   "metadata": {},
   "outputs": [],
   "source": [
    "def apply_noise(particles):\n",
    "    return particles"
   ]
  },
  {
   "cell_type": "markdown",
   "metadata": {},
   "source": [
    "Display the video frames"
   ]
  },
  {
   "cell_type": "code",
   "execution_count": 44,
   "metadata": {},
   "outputs": [],
   "source": [
    "def display(frame, particles, location):\n",
    "    if len(particles) > 0:\n",
    "        for i in range(NUM_PARTICLES):\n",
    "            x = int(particles[i,0])\n",
    "            y = int(particles[i,1])\n",
    "            cv2.circle(frame,(x,y),1,(0,255,0), 1)\n",
    "    if len(location) > 0:\n",
    "        cv2.circle(frame, location, 15, (0,0,255),5)\n",
    "    cv2.imshow('frame',frame)\n",
    "    if cv2.waitKey(30) == ESC_KEY: # Pause Video\n",
    "        if cv2.waitKey(0) == ESC_KEY: # Exit Video\n",
    "            return True\n",
    "            \n",
    "    return False"
   ]
  },
  {
   "cell_type": "markdown",
   "metadata": {},
   "source": [
    "Main routine"
   ]
  },
  {
   "cell_type": "code",
   "execution_count": 45,
   "metadata": {},
   "outputs": [
    {
     "name": "stdout",
     "output_type": "stream",
     "text": [
      "[[ 3.96243350e+02  2.90366883e+02  5.13816880e-02  2.24415915e-02]\n",
      " [ 3.05878765e+02  2.62233010e+02 -3.12063944e-02  1.95886500e-01]\n",
      " [ 6.95764513e+02  1.55677257e+02  1.45862519e-01  1.44474599e-02]\n",
      " [ 4.10128173e+02  3.75792235e+02 -2.14481971e-01 -2.06435350e-01]\n",
      " [ 1.45976830e+01  3.38043657e+02  1.39078375e-01  1.85006074e-01]\n",
      " [ 7.06562443e+02  3.24458377e+02 -1.92603189e-02  1.40264588e-01]\n",
      " [ 8.53941355e+01  2.59807935e+02 -1.78323356e-01  2.22334459e-01]\n",
      " [ 3.76774488e+02  1.68352748e+02 -1.17722194e-01  1.37116845e-01]\n",
      " [ 3.29340540e+02  2.30784183e+02 -2.40605100e-01  5.88177485e-02]\n",
      " [ 4.41933112e+02  2.50475203e+02  2.21874039e-01  9.09101496e-02]\n",
      " [ 2.59564704e+02  1.77434973e+02  9.88155980e-02 -2.19887264e-01]\n",
      " [ 4.81405569e+02  2.72278975e+02 -1.44808719e-01 -1.85536851e-01]\n",
      " [ 2.27739269e+02  1.47666573e+02  3.50983852e-02 -3.06992433e-02]\n",
      " [ 7.13605911e+02  4.14301932e+01 -1.45561622e-01 -1.69345241e-01]\n",
      " [ 4.71544211e+02  1.02836391e+02 -1.68446136e-02 -1.27787204e-01]\n",
      " [ 1.14776039e+02  4.48123073e+01  7.81647947e-02 -1.80908524e-01]\n",
      " [ 1.41932465e+02  1.49702419e+02  1.60496615e-01 -2.01449362e-01]\n",
      " [ 6.04996223e+02  3.90159536e+01  2.38229733e-01 -1.56743992e-02]\n",
      " [ 7.05221506e+02  2.45567281e+02  1.19631790e-01 -2.30406104e-01]\n",
      " [ 2.04186627e+02  4.87998039e+01 -1.01929901e-01 -1.90636141e-01]]\n"
     ]
    }
   ],
   "source": [
    "particles = initialize_particles()\n",
    "\n",
    "for frame in get_frames(VFILENAME):\n",
    "    if frame is None: break\n",
    "\n",
    "    particles = apply_velocity(particles)\n",
    "    particles = enforce_edges(particles)\n",
    "    errors = compute_errors(particles, frame)\n",
    "    weights = compute_weights(errors)\n",
    "    particles, location = resample(particles, weights)\n",
    "    particles = apply_noise(particles)\n",
    "    terminate = display(frame, particles, location)\n",
    "    if terminate:\n",
    "        break\n",
    "cv2.destroyAllWindows()\n"
   ]
  },
  {
   "cell_type": "code",
   "execution_count": 61,
   "metadata": {},
   "outputs": [],
   "source": [
    "fourcc = cv2.VideoWriter_fourcc('M','P','4','V') # MP4V Format Output\n",
    "video_out = cv2.VideoWriter(\"walking-output.mp4\",fourcc,FPS,RESOLUTION) # (filename,fourcc,frames per sec, resolution)\n",
    "\n",
    "def save_video(frame, particles, location):\n",
    "    if len(particles) > 0:\n",
    "        for i in range(NUM_PARTICLES):\n",
    "            x = int(particles[i,0])\n",
    "            y = int(particles[i,1])\n",
    "            cv2.circle(frame,(x,y),1,(0,255,0), 1)\n",
    "    if len(location) > 0:\n",
    "        cv2.circle(frame, location, 15, (0,0,255),5)\n",
    "    video_out.write(frame)\n",
    "            \n",
    "    return False"
   ]
  },
  {
   "cell_type": "code",
   "execution_count": 62,
   "metadata": {},
   "outputs": [
    {
     "name": "stdout",
     "output_type": "stream",
     "text": [
      "[[ 2.66603066e+02  8.57983573e+01 -1.15476157e-02 -2.08882822e-01]\n",
      " [ 1.71590062e+02  3.39000967e+01 -6.11240201e-02 -1.34422830e-01]\n",
      " [ 6.49246985e+02  7.00101504e+01  4.30303163e-02 -2.35340199e-01]\n",
      " [ 1.59680343e+02  3.08734577e+02 -1.20935525e-01 -1.80093242e-01]\n",
      " [ 9.06419609e+01  1.91234088e+02 -5.21805162e-02  7.66441127e-02]\n",
      " [ 4.04460185e+02  3.17367098e+01 -2.36418272e-01  2.99999244e-03]\n",
      " [ 6.54100625e+02  1.22942816e+02  5.32802877e-02  1.85965287e-01]\n",
      " [ 6.79615671e+02  1.91832310e+01 -1.40021216e-01 -1.66106231e-01]\n",
      " [ 7.19240866e+02  2.67135095e+02 -9.41397579e-02 -1.20006111e-02]\n",
      " [ 2.40833451e+02  3.65229143e+01  1.32753254e-01 -1.22292276e-01]\n",
      " [ 3.51775794e+02  2.42106347e+02  1.51771657e-01  8.37211702e-02]\n",
      " [ 3.69970317e+02  5.83611996e+01 -5.04871552e-02 -1.90857125e-01]\n",
      " [ 7.85009894e+01  2.11790643e+02  1.21228745e-02  1.46274026e-02]\n",
      " [ 3.42818191e+02  6.25784959e+01  1.13429573e-01  1.14525328e-01]\n",
      " [ 3.74393915e+02  1.32625690e+02  3.74000496e-02 -6.09580182e-02]\n",
      " [ 5.05277043e+02  2.25562038e+02 -2.19627762e-02 -1.34874347e-01]\n",
      " [ 5.91876094e+02  3.96472250e+02 -1.69793026e-01 -1.26305057e-01]\n",
      " [ 6.59361626e+02  5.37154946e+01  8.05762645e-02  1.86708681e-01]\n",
      " [ 5.73478666e+02  1.59439994e+02 -2.31501956e-02  5.07692642e-02]\n",
      " [ 6.73199687e+02  1.91178746e+02 -6.15473704e-02  9.79134071e-02]]\n"
     ]
    }
   ],
   "source": [
    "# Save Video to Disk\n",
    "\n",
    "particles = initialize_particles()\n",
    "\n",
    "for frame in get_frames(VFILENAME):\n",
    "    if frame is None: \n",
    "        break\n",
    "\n",
    "    particles = apply_velocity(particles)\n",
    "    particles = enforce_edges(particles)\n",
    "    errors = compute_errors(particles, frame)\n",
    "    weights = compute_weights(errors)\n",
    "    particles, location = resample(particles, weights)\n",
    "    particles = apply_noise(particles)\n",
    "    save_video(frame, particles, location)\n",
    "    \n",
    "cv2.destroyAllWindows()\n",
    "video_out.release()\n"
   ]
  },
  {
   "cell_type": "code",
   "execution_count": null,
   "metadata": {},
   "outputs": [],
   "source": []
  }
 ],
 "metadata": {
  "kernelspec": {
   "display_name": "Python 3 (ipykernel)",
   "language": "python",
   "name": "python3"
  },
  "language_info": {
   "codemirror_mode": {
    "name": "ipython",
    "version": 3
   },
   "file_extension": ".py",
   "mimetype": "text/x-python",
   "name": "python",
   "nbconvert_exporter": "python",
   "pygments_lexer": "ipython3",
   "version": "3.10.9"
  }
 },
 "nbformat": 4,
 "nbformat_minor": 4
}
